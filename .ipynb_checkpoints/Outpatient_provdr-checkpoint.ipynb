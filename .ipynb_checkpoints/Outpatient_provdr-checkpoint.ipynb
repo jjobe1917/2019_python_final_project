{
 "cells": [
  {
   "cell_type": "code",
   "execution_count": 6,
   "metadata": {},
   "outputs": [],
   "source": [
    "import pandas as pd\n",
    "import sqlite3\n",
    "import seaborn as sns\n",
    "import matplotlib.pyplot as plt\n",
    "import sqlite3 \n",
    "\n",
    "\n",
    "\n",
    "conn = sqlite3.connect('Outpatient_provdr.db') # Create SQL Database name 'Outpatient_provdr'\n",
    "Outpatient_provdr = pd.read_csv('Outpatient_provdr.csv') # Read the CSV file\n",
    "Outpatient_provdr.to_sql('Outpatient_provdr', conn, if_exists = 'replace') #Populate the database with the CSV"
   ]
  },
  {
   "cell_type": "markdown",
   "metadata": {},
   "source": [
    "Data Inspection"
   ]
  },
  {
   "cell_type": "code",
   "execution_count": 13,
   "metadata": {},
   "outputs": [
    {
     "name": "stdout",
     "output_type": "stream",
     "text": [
      "The names of the cloumns are: \t\n",
      "\n",
      " 1. APC\n",
      "\n",
      " 2. Provider Id\n",
      "\n",
      " 3. Provider Name\n",
      "\n",
      " 4. Provider Street Address\n",
      "\n",
      " 5. Provider City\n",
      "\n",
      " 6. Provider State\n",
      "\n",
      " 7. Provider Zip Code\n",
      "\n",
      " 8. Hospital Referral Region (HRR) Description\n",
      "\n",
      " 9. Outpatient Services\n",
      "\n",
      " 10. Average  Estimated Submitted Charges\n",
      "\n",
      " 11. Average Total Payments\n"
     ]
    }
   ],
   "source": [
    "top_of = list(Outpatient_provdr) \n",
    "print('The names of the cloumns are: \\t') \n",
    "count = 1 \n",
    "for top in top_of: \n",
    "    print('\\n {}. {}' .format(count, top)) \n",
    "    count += 1"
   ]
  },
  {
   "cell_type": "code",
   "execution_count": 17,
   "metadata": {},
   "outputs": [
    {
     "name": "stdout",
     "output_type": "stream",
     "text": [
      "There are 43372 rows, and therefore there are that many potential Patient\n"
     ]
    }
   ],
   "source": [
    "rows = len(Outpatient_provdr)\n",
    "print(\"There are {} rows, and therefore there are that many potential Patient\".format(rows))"
   ]
  },
  {
   "cell_type": "code",
   "execution_count": 24,
   "metadata": {},
   "outputs": [
    {
     "data": {
      "text/html": [
       "<div>\n",
       "<style scoped>\n",
       "    .dataframe tbody tr th:only-of-type {\n",
       "        vertical-align: middle;\n",
       "    }\n",
       "\n",
       "    .dataframe tbody tr th {\n",
       "        vertical-align: top;\n",
       "    }\n",
       "\n",
       "    .dataframe thead th {\n",
       "        text-align: right;\n",
       "    }\n",
       "</style>\n",
       "<table border=\"1\" class=\"dataframe\">\n",
       "  <thead>\n",
       "    <tr style=\"text-align: right;\">\n",
       "      <th></th>\n",
       "      <th>APC</th>\n",
       "      <th>Provider Id</th>\n",
       "      <th>Provider Name</th>\n",
       "      <th>Provider Street Address</th>\n",
       "      <th>Provider City</th>\n",
       "      <th>Provider State</th>\n",
       "      <th>Provider Zip Code</th>\n",
       "      <th>Hospital Referral Region (HRR) Description</th>\n",
       "      <th>Outpatient Services</th>\n",
       "      <th>Average  Estimated Submitted Charges</th>\n",
       "      <th>Average Total Payments</th>\n",
       "    </tr>\n",
       "  </thead>\n",
       "  <tbody>\n",
       "    <tr>\n",
       "      <th>0</th>\n",
       "      <td>0012 - Level I Debridement &amp; Destruction</td>\n",
       "      <td>10029</td>\n",
       "      <td>EAST ALABAMA MEDICAL CENTER AND SNF</td>\n",
       "      <td>2000 PEPPERELL PARKWAY</td>\n",
       "      <td>OPELIKA</td>\n",
       "      <td>AL</td>\n",
       "      <td>36801</td>\n",
       "      <td>AL - Birmingham</td>\n",
       "      <td>23</td>\n",
       "      <td>78.086957</td>\n",
       "      <td>21.910435</td>\n",
       "    </tr>\n",
       "    <tr>\n",
       "      <th>1</th>\n",
       "      <td>0012 - Level I Debridement &amp; Destruction</td>\n",
       "      <td>20024</td>\n",
       "      <td>CENTRAL PENINSULA GENERAL HOSPITAL</td>\n",
       "      <td>250 HOSPITAL PLACE</td>\n",
       "      <td>SOLDOTNA</td>\n",
       "      <td>AK</td>\n",
       "      <td>99669</td>\n",
       "      <td>AK - Anchorage</td>\n",
       "      <td>994</td>\n",
       "      <td>149.589749</td>\n",
       "      <td>36.623853</td>\n",
       "    </tr>\n",
       "    <tr>\n",
       "      <th>2</th>\n",
       "      <td>0012 - Level I Debridement &amp; Destruction</td>\n",
       "      <td>30064</td>\n",
       "      <td>UNIVERSITY OF ARIZONA MEDICAL CTR-UNIVERSIT, THE</td>\n",
       "      <td>1501 NORTH CAMPBELL AVENUE</td>\n",
       "      <td>TUCSON</td>\n",
       "      <td>AZ</td>\n",
       "      <td>85724</td>\n",
       "      <td>AZ - Tucson</td>\n",
       "      <td>1765</td>\n",
       "      <td>50.135411</td>\n",
       "      <td>14.541841</td>\n",
       "    </tr>\n",
       "    <tr>\n",
       "      <th>3</th>\n",
       "      <td>0012 - Level I Debridement &amp; Destruction</td>\n",
       "      <td>30088</td>\n",
       "      <td>BANNER BAYWOOD MEDICAL CENTER</td>\n",
       "      <td>6644 EAST BAYWOOD AVENUE</td>\n",
       "      <td>MESA</td>\n",
       "      <td>AZ</td>\n",
       "      <td>85206</td>\n",
       "      <td>AZ - Mesa</td>\n",
       "      <td>20</td>\n",
       "      <td>112.400000</td>\n",
       "      <td>23.736000</td>\n",
       "    </tr>\n",
       "    <tr>\n",
       "      <th>4</th>\n",
       "      <td>0012 - Level I Debridement &amp; Destruction</td>\n",
       "      <td>30111</td>\n",
       "      <td>UNIVERSITY OF ARIZONA MEDICAL CTR- SOUTH CAM, THE</td>\n",
       "      <td>2800 EAST AJO WAY</td>\n",
       "      <td>TUCSON</td>\n",
       "      <td>AZ</td>\n",
       "      <td>85713</td>\n",
       "      <td>AZ - Tucson</td>\n",
       "      <td>22</td>\n",
       "      <td>152.045455</td>\n",
       "      <td>16.569091</td>\n",
       "    </tr>\n",
       "  </tbody>\n",
       "</table>\n",
       "</div>"
      ],
      "text/plain": [
       "                                        APC  Provider Id  \\\n",
       "0  0012 - Level I Debridement & Destruction        10029   \n",
       "1  0012 - Level I Debridement & Destruction        20024   \n",
       "2  0012 - Level I Debridement & Destruction        30064   \n",
       "3  0012 - Level I Debridement & Destruction        30088   \n",
       "4  0012 - Level I Debridement & Destruction        30111   \n",
       "\n",
       "                                       Provider Name  \\\n",
       "0                EAST ALABAMA MEDICAL CENTER AND SNF   \n",
       "1                 CENTRAL PENINSULA GENERAL HOSPITAL   \n",
       "2   UNIVERSITY OF ARIZONA MEDICAL CTR-UNIVERSIT, THE   \n",
       "3                      BANNER BAYWOOD MEDICAL CENTER   \n",
       "4  UNIVERSITY OF ARIZONA MEDICAL CTR- SOUTH CAM, THE   \n",
       "\n",
       "      Provider Street Address Provider City Provider State  Provider Zip Code  \\\n",
       "0      2000 PEPPERELL PARKWAY       OPELIKA             AL              36801   \n",
       "1          250 HOSPITAL PLACE      SOLDOTNA             AK              99669   \n",
       "2  1501 NORTH CAMPBELL AVENUE        TUCSON             AZ              85724   \n",
       "3    6644 EAST BAYWOOD AVENUE          MESA             AZ              85206   \n",
       "4           2800 EAST AJO WAY        TUCSON             AZ              85713   \n",
       "\n",
       "  Hospital Referral Region (HRR) Description  Outpatient Services  \\\n",
       "0                            AL - Birmingham                   23   \n",
       "1                             AK - Anchorage                  994   \n",
       "2                                AZ - Tucson                 1765   \n",
       "3                                  AZ - Mesa                   20   \n",
       "4                                AZ - Tucson                   22   \n",
       "\n",
       "   Average  Estimated Submitted Charges  Average Total Payments  \n",
       "0                             78.086957               21.910435  \n",
       "1                            149.589749               36.623853  \n",
       "2                             50.135411               14.541841  \n",
       "3                            112.400000               23.736000  \n",
       "4                            152.045455               16.569091  "
      ]
     },
     "execution_count": 24,
     "metadata": {},
     "output_type": "execute_result"
    }
   ],
   "source": [
    "not_interference = Outpatient_provdr[Outpatient_provdr['Average Total Payments'] > 0] #Sets the index to all entries where target_class > 1 = True\n",
    "not_interference.head()    #Display just the first five entries"
   ]
  },
  {
   "cell_type": "markdown",
   "metadata": {},
   "source": [
    "According to the dataset documentation, there are 43372 'positive examples' (Outpatient); let's confirm that this is true:"
   ]
  },
  {
   "cell_type": "code",
   "execution_count": 26,
   "metadata": {},
   "outputs": [
    {
     "name": "stdout",
     "output_type": "stream",
     "text": [
      "43372\n"
     ]
    }
   ],
   "source": [
    "\n",
    "print(len(not_interference))"
   ]
  },
  {
   "cell_type": "code",
   "execution_count": null,
   "metadata": {},
   "outputs": [],
   "source": [
    "correlated_data = Outpatient_provdr.corr()\n",
    "plt.figure(figsize=(10,8))\n",
    "sns.heatmap(correlated_data,annot=True,\n",
    "            cmap='coolwarm',\n",
    "            linewidth=2)\n",
    "plt.title(\"CORRELATION BETWEEN VARIABLES\")\n",
    "plt.show()"
   ]
  }
 ],
 "metadata": {
  "kernelspec": {
   "display_name": "Python 3",
   "language": "python",
   "name": "python3"
  },
  "language_info": {
   "codemirror_mode": {
    "name": "ipython",
    "version": 3
   },
   "file_extension": ".py",
   "mimetype": "text/x-python",
   "name": "python",
   "nbconvert_exporter": "python",
   "pygments_lexer": "ipython3",
   "version": "3.7.3"
  }
 },
 "nbformat": 4,
 "nbformat_minor": 2
}
